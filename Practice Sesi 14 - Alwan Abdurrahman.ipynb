{
 "cells": [
  {
   "cell_type": "code",
   "execution_count": 1,
   "id": "e54854e0",
   "metadata": {},
   "outputs": [],
   "source": [
    "import math, sys"
   ]
  },
  {
   "cell_type": "code",
   "execution_count": 2,
   "id": "cc768164",
   "metadata": {},
   "outputs": [
    {
     "name": "stdout",
     "output_type": "stream",
     "text": [
      "3.141592653589793\n",
      "2.718281828459045\n",
      "3.141592653589793\n",
      "3.141592653589793\n"
     ]
    }
   ],
   "source": [
    "import numpy\n",
    "import scipy\n",
    "\n",
    "print(math.pi)\n",
    "print(math.e)\n",
    "print(numpy.pi)\n",
    "print(scipy.pi)"
   ]
  },
  {
   "cell_type": "markdown",
   "id": "5018fe30",
   "metadata": {},
   "source": [
    "## Python Fundamental Practice"
   ]
  },
  {
   "cell_type": "code",
   "execution_count": 3,
   "id": "7198123e",
   "metadata": {},
   "outputs": [
    {
     "name": "stdout",
     "output_type": "stream",
     "text": [
      "[1, 2, 3, 4, 5]\n",
      "Setelah ditambahkan: [1, 2, 3, 4, 5, 6]\n",
      "Elemen pada indeks 2: 3\n",
      "Setelah diubah: [1, 10, 3, 4, 5, 6]\n",
      "Setelah dihapus: [1, 10, 3, 5, 6]\n"
     ]
    }
   ],
   "source": [
    "# Operasi CRUD untuk List\n",
    "my_list = [1, 2, 3, 4, 5]\n",
    "print(my_list)\n",
    "\n",
    "# CREATE: Menambahkan elemen baru\n",
    "my_list.append(6)\n",
    "print(\"Setelah ditambahkan:\", my_list)\n",
    "\n",
    "# READ: Membaca elemen berdasarkan indeks\n",
    "print(\"Elemen pada indeks 2:\", my_list[2])\n",
    "\n",
    "# UPDATE: Mengubah nilai elemen berdasarkan indeks\n",
    "my_list[1] = 10\n",
    "print(\"Setelah diubah:\", my_list)\n",
    "\n",
    "# DELETE: Menghapus elemen berdasarkan nilai\n",
    "my_list.remove(4)\n",
    "print(\"Setelah dihapus:\", my_list)\n"
   ]
  },
  {
   "cell_type": "code",
   "execution_count": 5,
   "id": "7f753f5d",
   "metadata": {},
   "outputs": [
    {
     "name": "stdout",
     "output_type": "stream",
     "text": [
      "{'name': 'John', 'age': 25, 'city': 'New York'}\n",
      "Setelah ditambahkan: {'name': 'John', 'age': 25, 'city': 'New York', 'gender': 'Male'}\n",
      "Usia: 25\n",
      "Setelah diubah: {'name': 'John', 'age': 26, 'city': 'New York', 'gender': 'Male'}\n",
      "Setelah dihapus: {'name': 'John', 'age': 26, 'gender': 'Male'}\n"
     ]
    }
   ],
   "source": [
    "# Operasi CRUD untuk Dictionary\n",
    "my_dict = {'name': 'John', 'age': 25, 'city': 'New York'}\n",
    "print(my_dict)\n",
    "\n",
    "# CREATE: Menambahkan pasangan kunci-nilai baru\n",
    "my_dict['gender'] = 'Male'\n",
    "print(\"Setelah ditambahkan:\", my_dict)\n",
    "\n",
    "# READ: Membaca nilai berdasarkan kunci\n",
    "print(\"Usia:\", my_dict['age'])\n",
    "\n",
    "# UPDATE: Mengubah nilai berdasarkan kunci\n",
    "my_dict['age'] = 26\n",
    "print(\"Setelah diubah:\", my_dict)\n",
    "\n",
    "# DELETE: Menghapus pasangan kunci-nilai berdasarkan kunci\n",
    "del my_dict['city']\n",
    "print(\"Setelah dihapus:\", my_dict)\n"
   ]
  },
  {
   "cell_type": "code",
   "execution_count": 10,
   "id": "dab4a790",
   "metadata": {},
   "outputs": [
    {
     "name": "stdout",
     "output_type": "stream",
     "text": [
      "Enter the first number: 1\n",
      "Enter the second number: 3\n",
      "3.0 is greater.\n"
     ]
    }
   ],
   "source": [
    "##1. buatlah program Python yang menerima 2 angka sebagai input, dan print angka yang lebih besar\n",
    "\n",
    "num1 = float(input('Enter the first number: '))\n",
    "num2 = float(input('Enter the second number: '))\n",
    "\n",
    "if num1 > num2:\n",
    "    print(f'{num1} is greater.')\n",
    "\n",
    "elif num1 < num2:\n",
    "    print(f'{num2} is greater.')\n",
    "\n",
    "else:\n",
    "    print('Both numbers are equal.')"
   ]
  },
  {
   "cell_type": "code",
   "execution_count": 11,
   "id": "e57aad41",
   "metadata": {},
   "outputs": [
    {
     "name": "stdout",
     "output_type": "stream",
     "text": [
      "Enter a year: 2000\n",
      "2000 is a leap year.\n"
     ]
    }
   ],
   "source": [
    "##2. buatlah program Python yang bisa mengecek apakah tahun ini termasuk tahun kabisat atau bukan \n",
    "\n",
    "year = int(input(\"Enter a year: \"))\n",
    "\n",
    "if (year % 4 == 0 and year % 100 != 0) or (year % 400 == 0):    \n",
    "    print(f\"{year} is a leap year.\")\n",
    "\n",
    "else:    \n",
    "    print(f\"{year} is not a leap year.\")\n"
   ]
  },
  {
   "cell_type": "code",
   "execution_count": 17,
   "id": "3b5ab09c",
   "metadata": {},
   "outputs": [
    {
     "name": "stdout",
     "output_type": "stream",
     "text": [
      "Sum of even numbers from 1 to 100: 2550\n"
     ]
    }
   ],
   "source": [
    "##3. Buatlah program yang menghitung total semua angka genap dari 1 sampai 100, gunakan ‘while’ loop\n",
    "\n",
    "total = 0\n",
    "number = 1\n",
    "\n",
    "while number <= 100:\n",
    "    if number % 2 == 0:\n",
    "        total += number\n",
    "    number += 1\n",
    "\n",
    "print(\"Sum of even numbers from 1 to 100:\", total)"
   ]
  },
  {
   "cell_type": "code",
   "execution_count": 20,
   "id": "408b9744",
   "metadata": {},
   "outputs": [
    {
     "name": "stdout",
     "output_type": "stream",
     "text": [
      "Enter the password: dekol\n",
      "Password is wrong. Try again.\n",
      "Enter the password: secret\n",
      "Password is correct, Access granted!\n"
     ]
    }
   ],
   "source": [
    "##4. Buatlah program yang terus meminta input user untuk memasukkan password hingga password “secret” terinput\n",
    "\n",
    "secret_password = 'secret'\n",
    "\n",
    "while True:\n",
    "    user_input = input('Enter the password: ')\n",
    "    if user_input == secret_password:\n",
    "        print('Password is correct, Access granted!')\n",
    "        break\n",
    "    else:\n",
    "        print('Password is wrong. Try again.')"
   ]
  },
  {
   "cell_type": "code",
   "execution_count": 22,
   "id": "ebace476",
   "metadata": {},
   "outputs": [
    {
     "name": "stdout",
     "output_type": "stream",
     "text": [
      "Enter a number: 1\n",
      "1 x 1 = 1\n",
      "2 x 1 = 2\n",
      "3 x 1 = 3\n",
      "4 x 1 = 4\n",
      "5 x 1 = 5\n",
      "6 x 1 = 6\n",
      "7 x 1 = 7\n",
      "8 x 1 = 8\n",
      "9 x 1 = 9\n",
      "10 x 1 = 10\n"
     ]
    }
   ],
   "source": [
    "##5. buatlah program yang membuat tabel multiplikasi untuk sebuah angka dari 1*num hingga 10*num. gunakan ‘for’ loop.\n",
    "\n",
    "num = int(input('Enter a number: '))\n",
    "\n",
    "for i in range (1, 11):\n",
    "    print(f'{i} x {num} = {i * num}')"
   ]
  },
  {
   "cell_type": "code",
   "execution_count": 26,
   "id": "8b164598",
   "metadata": {},
   "outputs": [
    {
     "name": "stdout",
     "output_type": "stream",
     "text": [
      "Enter a string: alwan\n",
      "Number of vowels in the string: 2\n"
     ]
    }
   ],
   "source": [
    "##6. buatlah program yang menghitung jumlah huruf hidup dalam sebuah string\n",
    "\n",
    "text = input(\"Enter a string: \")\n",
    "text = text.lower()  # Convert the input to lowercase for case \n",
    "vowel_count = 0\n",
    "\n",
    "for char in text:    \n",
    "    if char in \"aeiou\":        \n",
    "        vowel_count += 1\n",
    "        \n",
    "print(f\"Number of vowels in the string: {vowel_count}\")\n"
   ]
  },
  {
   "cell_type": "code",
   "execution_count": 34,
   "id": "30dd5979",
   "metadata": {},
   "outputs": [
    {
     "name": "stdout",
     "output_type": "stream",
     "text": [
      "Halo, John!\n",
      "9 adalah kuadrat dari 3\n"
     ]
    }
   ],
   "source": [
    "##7. Buatlah sebuah fungsi bernama `sapa` yang menerima satu argumen berupa nama dan mencetak pesan sapaan. \n",
    "##Panggil fungsi tersebut dengan nama \"John\"\n",
    "\n",
    "def sapa(nama):\n",
    "    print(f'Halo, {nama}!')\n",
    "\n",
    "sapa('John')\n",
    "\n",
    "\n",
    "##8.Buatlah sebuah fungsi `kuadrat` yang menerima satu angka sebagai argumen dan mengembalikan kuadrat dari angka tersebut. \n",
    "##Cobalah fungsi ini dengan beberapa angka\n",
    "\n",
    "def kuadrat(angka):\n",
    "    print(f'{angka * angka} adalah kuadrat dari {angka}')\n",
    "    \n",
    "kuadrat(3)\n"
   ]
  },
  {
   "cell_type": "code",
   "execution_count": 42,
   "id": "1c7793d0",
   "metadata": {},
   "outputs": [
    {
     "name": "stdout",
     "output_type": "stream",
     "text": [
      "luas persegi dengan panjang 2 dan lebar 4 ialah 8\n",
      "alwan abdurrahman\n"
     ]
    }
   ],
   "source": [
    "##9. Buatlah sebuah fungsi `hitung_luas_persegi` yang menerima dua argumen: panjang dan lebar. \n",
    "##Fungsi ini mengembalikan luas persegi tersebut. \n",
    "##Jika salah satu argumen tidak disediakan, gunakan nilai default 1.0\n",
    "\n",
    "def hitung_luas_persegi(p=1.0, l=1.0):\n",
    "    print(f'luas persegi dengan panjang {p} dan lebar {l} ialah {p*l}')\n",
    "\n",
    "hitung_luas_persegi(p=2, l=4)\n",
    "\n",
    "##10. Buatlah sebuah fungsi `bentuk_nama` yang menerima dua argumen: nama_depan dan nama_belakang. \n",
    "##Fungsi ini mengembalikan nama lengkap. Jika nama_belakang tidak disediakan, gunakan string kosong untuk nama_belakang\n",
    "\n",
    "def bentuk_nama(nama_depan, nama_belakang=' '):\n",
    "    print(f'{nama_depan} {nama_belakang}')\n",
    "\n",
    "bentuk_nama('alwan','abdurrahman')"
   ]
  },
  {
   "cell_type": "code",
   "execution_count": 45,
   "id": "db8c146a",
   "metadata": {},
   "outputs": [
    {
     "name": "stdout",
     "output_type": "stream",
     "text": [
      "12\n"
     ]
    }
   ],
   "source": [
    "def hitung_luas_persegi2(panjang=1.0, lebar=1.0):    \n",
    "    return panjang * lebar\n",
    "\n",
    "luas = hitung_luas_persegi2(4, 3)\n",
    "print(luas)"
   ]
  },
  {
   "cell_type": "code",
   "execution_count": 7,
   "id": "125500fb",
   "metadata": {},
   "outputs": [
    {
     "name": "stdout",
     "output_type": "stream",
     "text": [
      "100 derajat Fahrenheit ialah 37.8 derajat Celcius\n"
     ]
    }
   ],
   "source": [
    "##11. Buatlah sebuah fungsi `konversi_fahrenheit_ke_celcius` yang menerima suhu dalam Fahrenheit dan mengembalikan suhu tersebut dalam Celcius.\n",
    "## Rumus konversi adalah: Celsius = (Fahrenheit - 32) * 5/9\n",
    "\n",
    "def konversi_fahrenheit_ke_celcius(suhu):\n",
    "    suhu_celcius = (suhu - 32) * 5/9\n",
    "    print(f'{suhu} derajat Fahrenheit ialah {suhu_celcius:.1f} derajat Celcius')\n",
    "\n",
    "konversi_fahrenheit_ke_celcius(100)"
   ]
  },
  {
   "cell_type": "code",
   "execution_count": 9,
   "id": "831d117d",
   "metadata": {},
   "outputs": [
    {
     "name": "stdout",
     "output_type": "stream",
     "text": [
      "Hasil dari 2 pangkat 2 ialah 4\n"
     ]
    }
   ],
   "source": [
    "##12. Buatlah sebuah fungsi `hitung_pangkat` yang menerima dua argumen: angka dan pangkat.\n",
    "## Fungsi ini mengembalikan hasil dari angka pangkat pangkat.\n",
    "\n",
    "def hitung_pangkat(angka, pangkat):\n",
    "    hasil = angka ** pangkat\n",
    "    print(f'Hasil dari {angka} pangkat {pangkat} ialah {hasil}')\n",
    "\n",
    "hitung_pangkat(2, 2)"
   ]
  },
  {
   "cell_type": "code",
   "execution_count": 11,
   "id": "f1073915",
   "metadata": {},
   "outputs": [
    {
     "name": "stdout",
     "output_type": "stream",
     "text": [
      "2\n"
     ]
    }
   ],
   "source": [
    "def hitung_pangkat(angka, pangkat):    \n",
    "    hasil = 1    \n",
    "    for _ in range(pangkat):        \n",
    "        hasil *= angka    \n",
    "        return hasil\n",
    "pangkat = hitung_pangkat(2, 3)\n",
    "print(pangkat)\n"
   ]
  },
  {
   "cell_type": "code",
   "execution_count": 20,
   "id": "e66771cf",
   "metadata": {},
   "outputs": [
    {
     "name": "stdout",
     "output_type": "stream",
     "text": [
      "Hello, Asep!\n",
      "Luas lingkaran dengan radius 5 adalah 78.54\n"
     ]
    }
   ],
   "source": [
    "##13. Membuat modul\n",
    "\n",
    "# main.py\n",
    "import my_module\n",
    "\n",
    "# Menggunakan fungsi dari my_module\n",
    "message = my_module.greet(\"Asep\")\n",
    "print(message)\n",
    "\n",
    "# Menggunakan variabel dari my_module\n",
    "radius = 5\n",
    "area = my_module.pi * my_module.square(radius)\n",
    "print(f\"Luas lingkaran dengan radius {radius} adalah {area:.2f}\")\n",
    "\n"
   ]
  },
  {
   "cell_type": "code",
   "execution_count": 21,
   "id": "0e91f478",
   "metadata": {},
   "outputs": [
    {
     "name": "stdout",
     "output_type": "stream",
     "text": [
      "Pilihan operasi:\n",
      "1. Penambahan\n",
      "2. Pengurangan\n",
      "3. Pembagian\n",
      "4. Perkalian\n",
      "5. Modulo\n",
      "6. Pangkat\n",
      "7. Keluar\n",
      "\n",
      "Masukkan nomor operasi (1/2/3/4/5/6/7): 6\n",
      "\n",
      "Angka pertama ialah angka dan angka kedua ialah bilangan pangkat\n",
      "\n",
      "Masukkan angka pertama: 2\n",
      "\n",
      "Masukkan angka kedua: 2\n",
      "\n",
      "Hasil: 4.0\n",
      "Pilihan operasi:\n",
      "1. Penambahan\n",
      "2. Pengurangan\n",
      "3. Pembagian\n",
      "4. Perkalian\n",
      "5. Modulo\n",
      "6. Pangkat\n",
      "7. Keluar\n",
      "\n",
      "Masukkan nomor operasi (1/2/3/4/5/6/7): 7\n",
      "\n",
      "Keluar dari kalkulator\n"
     ]
    }
   ],
   "source": [
    "##14. Kalkulator sederhana\n",
    "def tambah(x, y):\n",
    "    return x + y\n",
    "def kurang(x, y):\n",
    "    return x - y\n",
    "def bagi(x, y):\n",
    "    if y == 0:\n",
    "        return 'Tidak bisa dibagi oleh 0'\n",
    "    return x / y\n",
    "def kali(x, y):\n",
    "    return x * y\n",
    "def modulo(x, y):\n",
    "    return x % y\n",
    "def pangkat(x, y):\n",
    "    return x ** y\n",
    "\n",
    "while True:\n",
    "    print('Pilihan operasi:')\n",
    "    print('1. Penambahan')\n",
    "    print('2. Pengurangan')\n",
    "    print('3. Pembagian')\n",
    "    print('4. Perkalian')\n",
    "    print('5. Modulo')\n",
    "    print('6. Pangkat')\n",
    "    print('7. Keluar')\n",
    "\n",
    "    pilihan = input('\\nMasukkan nomor operasi (1/2/3/4/5/6/7): ')\n",
    "    \n",
    "    if pilihan == '5':\n",
    "        print('\\nAngka pertama ialah angka yang dibagi dan angka kedua ialah pembagi')\n",
    "    elif pilihan == '6':\n",
    "        print('\\nAngka pertama ialah angka dan angka kedua ialah bilangan pangkat')\n",
    "    elif pilihan == '7':\n",
    "        print('\\nKeluar dari kalkulator')\n",
    "        break\n",
    "    \n",
    "    angka1 = float(input('\\nMasukkan angka pertama: '))\n",
    "    angka2 = float(input('\\nMasukkan angka kedua: '))\n",
    "    \n",
    "    if pilihan == '1':\n",
    "        print('\\nHasil:', tambah(angka1, angka2))\n",
    "    elif pilihan == '2':\n",
    "        print('\\nHasil:', kurang(angka1, angka2))\n",
    "    elif pilihan == '3':\n",
    "        print('\\nHasil:', bagi(angka1, angka2))\n",
    "    elif pilihan == '4':\n",
    "        print('\\nHasil:', kali(angka1, angka2))\n",
    "    elif pilihan == '5':\n",
    "        print('\\nHasil:', modulo(angka1, angka2))\n",
    "    elif pilihan == '6':\n",
    "        print('\\nHasil:', pangkat(angka1, angka2))\n",
    "    else:\n",
    "        print('\\nPilihan tidak valid')"
   ]
  },
  {
   "cell_type": "code",
   "execution_count": 27,
   "id": "0446979a",
   "metadata": {},
   "outputs": [
    {
     "name": "stdout",
     "output_type": "stream",
     "text": [
      "\n",
      "Apa yang ingin Anda lakukan?\n",
      "\n",
      "1. Tambah item ke daftar belanja\n",
      "2. Hapus item dari daftar belanja\n",
      "3. Tampilkan daftar belanja\n",
      "4. Keluar\n",
      "\n",
      "Pilih tindakan (1/2/3/4): 1\n",
      "\n",
      "Masukkan item yang ingin ditambahkan: ayam\n",
      "ayam telah ditambahkan ke daftar belanja.\n",
      "\n",
      "Apa yang ingin Anda lakukan?\n",
      "\n",
      "1. Tambah item ke daftar belanja\n",
      "2. Hapus item dari daftar belanja\n",
      "3. Tampilkan daftar belanja\n",
      "4. Keluar\n",
      "\n",
      "Pilih tindakan (1/2/3/4): 2\n",
      "\n",
      "Daftar Belanja:\n",
      "- ayam\n",
      "\n",
      "Masukkan item yang ingin dihapus: ayam\n",
      "ayam telah dihapus dari daftar belanja.\n",
      "\n",
      "Apa yang ingin Anda lakukan?\n",
      "\n",
      "1. Tambah item ke daftar belanja\n",
      "2. Hapus item dari daftar belanja\n",
      "3. Tampilkan daftar belanja\n",
      "4. Keluar\n",
      "\n",
      "Pilih tindakan (1/2/3/4): 3\n",
      "\n",
      "Daftar Belanja:\n",
      "\n",
      "Apa yang ingin Anda lakukan?\n",
      "\n",
      "1. Tambah item ke daftar belanja\n",
      "2. Hapus item dari daftar belanja\n",
      "3. Tampilkan daftar belanja\n",
      "4. Keluar\n",
      "\n",
      "Pilih tindakan (1/2/3/4): 4\n",
      "\n",
      "Keluar dari daftar belanja\n"
     ]
    }
   ],
   "source": [
    "##15. Daftar belanja sederhana\n",
    "\n",
    "shopping_list = []\n",
    "\n",
    "def tambah_item(item):\n",
    "    shopping_list.append(item)\n",
    "    print(f'{item} telah ditambahkan ke daftar belanja.')\n",
    "def hapus_item(item):\n",
    "    if item in shopping_list:\n",
    "        shopping_list.remove(item)\n",
    "        print(f'{item} telah dihapus dari daftar belanja.')\n",
    "    else:\n",
    "        print(f'{item} tidak ditemukan di dalam daftar belanja.')\n",
    "def tampilkan_daftar():\n",
    "    print('\\nDaftar Belanja:')\n",
    "    for item in shopping_list:\n",
    "        print('-', item)\n",
    "\n",
    "while True:    \n",
    "    print(\"\\nApa yang ingin Anda lakukan?\")    \n",
    "    print(\"\\n1. Tambah item ke daftar belanja\")    \n",
    "    print(\"2. Hapus item dari daftar belanja\")    \n",
    "    print(\"3. Tampilkan daftar belanja\")    \n",
    "    print(\"4. Keluar\")    \n",
    "    pilihan = input(\"\\nPilih tindakan (1/2/3/4): \")    \n",
    "    if pilihan == '1':        \n",
    "        item = input(\"\\nMasukkan item yang ingin ditambahkan: \")        \n",
    "        tambah_item(item)    \n",
    "    elif pilihan == '2':        \n",
    "        tampilkan_daftar()\n",
    "        item = input(\"\\nMasukkan item yang ingin dihapus: \")        \n",
    "        hapus_item(item)    \n",
    "    elif pilihan == '3':        \n",
    "        tampilkan_daftar()    \n",
    "    elif pilihan == '4':        \n",
    "        print(\"\\nKeluar dari daftar belanja\")        \n",
    "        break    \n",
    "    else:        \n",
    "        print(\"\\nPilihan tidak valid\")"
   ]
  },
  {
   "cell_type": "code",
   "execution_count": 29,
   "id": "6d6ff266",
   "metadata": {},
   "outputs": [
    {
     "name": "stdout",
     "output_type": "stream",
     "text": [
      "Masukkan berat badan (kg): 74\n",
      "Masukkan tinggi badan (cm):174\n",
      "\n",
      "BMI Anda adalah 24.44 (Ideal).\n"
     ]
    }
   ],
   "source": [
    "#16. Kalkulator Body Mass Index\n",
    "\n",
    "def hitung_bmi(berat, tinggi):\n",
    "    tinggi_m = tinggi / 100\n",
    "    bmi = berat / (tinggi_m ** 2)\n",
    "    return bmi\n",
    "def kategori_bmi(bmi):\n",
    "    if bmi < 18.5:\n",
    "        return 'Kurus'\n",
    "    elif 18.5 <= bmi < 24.9:\n",
    "        return 'Ideal'\n",
    "    elif 25 <= bmi < 29.9:\n",
    "        return 'Gemuk'\n",
    "    else:\n",
    "        return 'Obesitas'\n",
    "\n",
    "berat = float(input('Masukkan berat badan (kg): '))\n",
    "tinggi = float(input('Masukkan tinggi badan (cm):'))\n",
    "\n",
    "bmi = hitung_bmi(berat, tinggi)\n",
    "kategori = kategori_bmi(bmi)\n",
    "\n",
    "print(f'BMI Anda adalah {bmi:.2f} ({kategori}).')"
   ]
  },
  {
   "cell_type": "code",
   "execution_count": 32,
   "id": "3073d7fb",
   "metadata": {},
   "outputs": [
    {
     "name": "stdout",
     "output_type": "stream",
     "text": [
      "Masukkan kata atau frasa yang ingin dicari: kamu sedang\n",
      "\"kamu sedang\" ditemukan dalam teks.\n"
     ]
    }
   ],
   "source": [
    "#17. Pencarian kata dalam teks\n",
    "\n",
    "teks = 'Halo, jika kamu sedang sendiri saat membaca ini mohon berhati-hati ya.'\n",
    "\n",
    "kata_cari = input('Masukkan kata atau frasa yang ingin dicari: ')\n",
    "\n",
    "if kata_cari in teks:\n",
    "    print(f'\"{kata_cari}\" ditemukan dalam teks.')\n",
    "else:\n",
    "    print(f'\"{kata_cari}\" tidak ditemukan dalam teks.')\n"
   ]
  },
  {
   "cell_type": "code",
   "execution_count": 16,
   "id": "e15589e2",
   "metadata": {},
   "outputs": [
    {
     "name": "stdout",
     "output_type": "stream",
     "text": [
      "\n",
      "Pilihan mata uang:\n",
      "1. USD (Dolar Amerika)\n",
      "2. YEN (Jepang)\n",
      "3. WON (Korea)\n",
      "4. EURO (Uni Eropa)\n",
      "5. POUND (Inggris)\n",
      "6. RUBEL (Rusia)\n",
      "7. YUAN (Tiongkok)\n",
      "8. Keluar\n",
      "\n",
      "Masukan pilihan 1/2/3/4/5/6/7/8: 4\n",
      "\n",
      "Masukkan jumlah uang (dalam Rupiah): 1500000\n",
      "\n",
      "1500000.00 Rupiah setara dengan 94.94 EURO\n",
      "\n",
      "Pilihan mata uang:\n",
      "1. USD (Dolar Amerika)\n",
      "2. YEN (Jepang)\n",
      "3. WON (Korea)\n",
      "4. EURO (Uni Eropa)\n",
      "5. POUND (Inggris)\n",
      "6. RUBEL (Rusia)\n",
      "7. YUAN (Tiongkok)\n",
      "8. Keluar\n",
      "\n",
      "Masukan pilihan 1/2/3/4/5/6/7/8: 8\n",
      "\n",
      "Keluar dari kalkulator konversi mata uang\n"
     ]
    }
   ],
   "source": [
    "##18. Kalkulator konversi mata uang dari Rupiah\n",
    "\n",
    "def konversi_uang(jumlah, mata_uang_tujuan):\n",
    "    nilai_tukar = {\n",
    "        'USD': 14200,\n",
    "        'YEN': 130,\n",
    "        'WON': 12,\n",
    "        'EURO': 15800,\n",
    "        'POUND': 17500,\n",
    "        'RUBEL': 190,\n",
    "        'YUAN': 2200\n",
    "    }\n",
    "\n",
    "    return jumlah / nilai_tukar[mata_uang_tujuan]\n",
    "\n",
    "while True:\n",
    "    print('\\nPilihan mata uang:')\n",
    "    print('1. USD (Dolar Amerika)')\n",
    "    print('2. YEN (Jepang)')\n",
    "    print('3. WON (Korea)')\n",
    "    print('4. EURO (Uni Eropa)')\n",
    "    print('5. POUND (Inggris)')\n",
    "    print('6. RUBEL (Rusia)')\n",
    "    print('7. YUAN (Tiongkok)')\n",
    "    print('8. Keluar')\n",
    "\n",
    "    pilihan = input('\\nMasukan pilihan 1/2/3/4/5/6/7/8: ')\n",
    "\n",
    "    if pilihan == '8':\n",
    "        print('\\nKeluar dari kalkulator konversi mata uang')\n",
    "        break\n",
    "\n",
    "    if pilihan in ['1', '2', '3', '4', '5', '6', '7']:\n",
    "        try:\n",
    "            jumlah_uang = float(input('\\nMasukkan jumlah uang (dalam Rupiah): '))\n",
    "        except ValueError:\n",
    "            print('\\nJumlah uang tidak valid. Masukkan angka.')\n",
    "            continue\n",
    "\n",
    "        # Mapping pilihan pengguna ke mata uang yang sesuai\n",
    "        mata_uang_tujuan = {\n",
    "            '1': 'USD',\n",
    "            '2': 'YEN',\n",
    "            '3': 'WON',\n",
    "            '4': 'EURO',\n",
    "            '5': 'POUND',\n",
    "            '6': 'RUBEL',\n",
    "            '7': 'YUAN'\n",
    "        }.get(pilihan)\n",
    "\n",
    "        if mata_uang_tujuan is None:\n",
    "            print('\\nMata uang tujuan tidak valid. Silakan pilih dari daftar yang tersedia.')\n",
    "            continue\n",
    "\n",
    "        hasil_konversi = konversi_uang(jumlah_uang, mata_uang_tujuan)\n",
    "        print(f'\\n{jumlah_uang:.2f} Rupiah setara dengan {hasil_konversi:.2f} {mata_uang_tujuan}')\n",
    "    else:\n",
    "        print('\\nPilihan tidak valid. Silakan pilih nomor mata uang dari 1 hingga 7.')"
   ]
  },
  {
   "cell_type": "code",
   "execution_count": 19,
   "id": "fab4bd7b",
   "metadata": {},
   "outputs": [
    {
     "data": {
      "text/html": [
       "<div>\n",
       "<style scoped>\n",
       "    .dataframe tbody tr th:only-of-type {\n",
       "        vertical-align: middle;\n",
       "    }\n",
       "\n",
       "    .dataframe tbody tr th {\n",
       "        vertical-align: top;\n",
       "    }\n",
       "\n",
       "    .dataframe thead th {\n",
       "        text-align: right;\n",
       "    }\n",
       "</style>\n",
       "<table border=\"1\" class=\"dataframe\">\n",
       "  <thead>\n",
       "    <tr style=\"text-align: right;\">\n",
       "      <th></th>\n",
       "      <th>start_station</th>\n",
       "      <th>name</th>\n",
       "      <th>num</th>\n",
       "    </tr>\n",
       "  </thead>\n",
       "  <tbody>\n",
       "    <tr>\n",
       "      <th>0</th>\n",
       "      <td>Hyde Park Corner</td>\n",
       "      <td>Hyde Park</td>\n",
       "      <td>671688</td>\n",
       "    </tr>\n",
       "    <tr>\n",
       "      <th>1</th>\n",
       "      <td>Belgrove Street</td>\n",
       "      <td>King's Cross</td>\n",
       "      <td>593065</td>\n",
       "    </tr>\n",
       "    <tr>\n",
       "      <th>2</th>\n",
       "      <td>Waterloo Station 3</td>\n",
       "      <td>Waterloo</td>\n",
       "      <td>527112</td>\n",
       "    </tr>\n",
       "    <tr>\n",
       "      <th>3</th>\n",
       "      <td>Albert Gate</td>\n",
       "      <td>Hyde Park</td>\n",
       "      <td>461108</td>\n",
       "    </tr>\n",
       "    <tr>\n",
       "      <th>4</th>\n",
       "      <td>Black Lion Gate</td>\n",
       "      <td>Kensington Gardens</td>\n",
       "      <td>459716</td>\n",
       "    </tr>\n",
       "    <tr>\n",
       "      <th>...</th>\n",
       "      <td>...</td>\n",
       "      <td>...</td>\n",
       "      <td>...</td>\n",
       "    </tr>\n",
       "    <tr>\n",
       "      <th>431</th>\n",
       "      <td>Union Grove</td>\n",
       "      <td>Wandsworth Road</td>\n",
       "      <td>84686</td>\n",
       "    </tr>\n",
       "    <tr>\n",
       "      <th>432</th>\n",
       "      <td>Seymour Place</td>\n",
       "      <td>Marylebone</td>\n",
       "      <td>84486</td>\n",
       "    </tr>\n",
       "    <tr>\n",
       "      <th>433</th>\n",
       "      <td>Walnut Tree Walk</td>\n",
       "      <td>Vauxhall</td>\n",
       "      <td>84163</td>\n",
       "    </tr>\n",
       "    <tr>\n",
       "      <th>434</th>\n",
       "      <td>Shouldham Street</td>\n",
       "      <td>Marylebone</td>\n",
       "      <td>83818</td>\n",
       "    </tr>\n",
       "    <tr>\n",
       "      <th>435</th>\n",
       "      <td>Halford Road</td>\n",
       "      <td>West Kensington</td>\n",
       "      <td>83796</td>\n",
       "    </tr>\n",
       "  </tbody>\n",
       "</table>\n",
       "<p>436 rows × 3 columns</p>\n",
       "</div>"
      ],
      "text/plain": [
       "          start_station                 name     num\n",
       "0      Hyde Park Corner            Hyde Park  671688\n",
       "1      Belgrove Street          King's Cross  593065\n",
       "2    Waterloo Station 3             Waterloo  527112\n",
       "3           Albert Gate            Hyde Park  461108\n",
       "4       Black Lion Gate   Kensington Gardens  459716\n",
       "..                  ...                  ...     ...\n",
       "431         Union Grove      Wandsworth Road   84686\n",
       "432       Seymour Place           Marylebone   84486\n",
       "433    Walnut Tree Walk             Vauxhall   84163\n",
       "434    Shouldham Street           Marylebone   83818\n",
       "435        Halford Road      West Kensington   83796\n",
       "\n",
       "[436 rows x 3 columns]"
      ]
     },
     "execution_count": 19,
     "metadata": {},
     "output_type": "execute_result"
    }
   ],
   "source": [
    "##19. Read and Write from Excel\n",
    "\n",
    "import pandas as pd\n",
    "#Read data from a Excel file\n",
    "df_excel = pd.read_excel('C:/Users/USER/Downloads/start_station.xlsx')\n",
    "df_excel\n",
    "\n",
    "#Save the processed data to a new CSV file\n",
    "# df.to_csv('processed_csv_data.csv', index=False)\n",
    "\n",
    "#Save the processed data to an Excel file\n",
    "# df.to_excel('processed_csv_data.xlsx', index=False)"
   ]
  },
  {
   "cell_type": "code",
   "execution_count": 32,
   "id": "d22147e9",
   "metadata": {},
   "outputs": [
    {
     "name": "stdout",
     "output_type": "stream",
     "text": [
      "          start_station                 name      num\n",
      "0      Hyde Park Corner            Hyde Park   671688\n",
      "1      Belgrove Street          King's Cross   593065\n",
      "2    Waterloo Station 3             Waterloo   527112\n",
      "3           Albert Gate            Hyde Park   461108\n",
      "4       Black Lion Gate   Kensington Gardens   459716\n",
      "..                  ...                  ...      ...\n",
      "433    Walnut Tree Walk             Vauxhall    84163\n",
      "434    Shouldham Street           Marylebone    83818\n",
      "435        Halford Road      West Kensington    83796\n",
      "436              Cisauk                  BSD  9999999\n",
      "437              Cisauk                  BSD  9999999\n",
      "\n",
      "[438 rows x 3 columns]\n",
      "Data berhasil disimpan.\n"
     ]
    }
   ],
   "source": [
    "##19. Read and Write from Excel\n",
    "import pandas as pd\n",
    "\n",
    "def baca_data(file_path):\n",
    "    try:\n",
    "        df_excel2 = pd.read_excel(file_path)\n",
    "        return df_excel2\n",
    "    except FileNotFoundError:\n",
    "        print(\"File tidak ditemukan.\")\n",
    "        return None\n",
    "\n",
    "def tampilkan_data(df_excel2):\n",
    "    if df_excel2 is not None:\n",
    "        print(df_excel2)\n",
    "\n",
    "def tambah_data(df_excel2, data_baru):\n",
    "    if df_excel2 is not None:\n",
    "        new_row = pd.DataFrame(data_baru, index=[0])\n",
    "        return pd.concat([df_excel2, new_row], ignore_index=True)\n",
    "\n",
    "def simpan_data(df_excel2, file_path):\n",
    "    try:\n",
    "        df_excel2.to_excel(file_path, index=False)\n",
    "        print(\"Data berhasil disimpan.\")\n",
    "    except Exception as e:\n",
    "        print(f\"Terjadi kesalahan: {e}\")\n",
    "\n",
    "# Nama file Excel\n",
    "file_path = 'C:/Users/USER/Downloads/start_station.xlsx'\n",
    "\n",
    "# Baca data dari file Excel\n",
    "dataframe = baca_data(file_path)\n",
    "\n",
    "# Tampilkan data\n",
    "tampilkan_data(dataframe)\n",
    "\n",
    "# Tambahkan data baru\n",
    "data_baru = {'start_station': 'Cisauk', 'name': 'BSD', 'num': '9999999'}\n",
    "dataframe = tambah_data(dataframe, data_baru)\n",
    "\n",
    "# Simpan data kembali ke file Excel\n",
    "simpan_data(dataframe, file_path)"
   ]
  },
  {
   "cell_type": "code",
   "execution_count": null,
   "id": "a37dfde2",
   "metadata": {},
   "outputs": [],
   "source": [
    "##21. Read and Write from SQL\n",
    "import pyodbc\n",
    "\n",
    "# Fungsi untuk membaca data dari tabel\n",
    "def baca_data_sql(database_file):\n",
    "    engine_sql = pyodbc.connect(database_file)\n",
    "    df = pd.read_sql('SELECT * FROM books_inventories', engine_sql)\n",
    "    return df\n",
    "\n",
    "# Fungsi untuk menambahkan data ke dalam tabel\n",
    "def tambah_data_sql(database_file, start_station, name, num):\n",
    "    engine_sql = pyodbc.connect(database_file)\n",
    "    cursor = engine_sql.cursor()\n",
    "    cursor.execute(\"INSERT INTO BitMedia (start_station, name, num) VALUES (?, ?, ?)\", (start_station, name, num))\n",
    "    connection.commit()\n",
    "    connection.close()\n",
    "\n",
    "def main():\n",
    "    database_file = 'Driver={SQL Server};'\n",
    "                          'Server=LAPTOP-8K05SUQ5;'\n",
    "                          'Database=BitMedia;'\n",
    "                          'Trusted_Connection=yes;'\n",
    "    station = baca_data_sql(database_file)\n",
    "    \n",
    "    print(\"Data Station:\")\n",
    "    for name in station:\n",
    "        print(f\"{name[1]}: {name[2]} Start_station, Number: {item[3]}\")\n",
    "    \n",
    "    tambah_station = input(\"Tambah station baru? (y/n): \")\n",
    "    \n",
    "    if tambah_station.lower() == 'y':\n",
    "        start_station = input(\"Nama start station: \")\n",
    "        name = input(\"Nama wilayah: \")\n",
    "        number = input(\"Nomor station: \")\n",
    "        \n",
    "        tambah_data_sql(database_file, start_station, name, num)\n",
    "        print(\"Station berhasil ditambahkan dan disimpan.\")\n",
    "\n",
    "if __name__ == \"__main__\":\n",
    "    main()\n"
   ]
  },
  {
   "cell_type": "code",
   "execution_count": 35,
   "id": "400c9d3e",
   "metadata": {},
   "outputs": [
    {
     "name": "stdout",
     "output_type": "stream",
     "text": [
      "                                    start_station_name      num start_station  \\\n",
      "0                          Hyde Park Corner, Hyde Park   671688           NaN   \n",
      "1                       Belgrove Street , King's Cross   593065           NaN   \n",
      "2                         Waterloo Station 3, Waterloo   527112           NaN   \n",
      "3                               Albert Gate, Hyde Park   461108           NaN   \n",
      "4                  Black Lion Gate, Kensington Gardens   459716           NaN   \n",
      "..                                                 ...      ...           ...   \n",
      "951                                               LSP1        2           NaN   \n",
      "952  PENTON STREET COMMS TEST TERMINAL _ CONTACT MA...        1           NaN   \n",
      "953                                   York Way, Camden        1           NaN   \n",
      "954                                                NaN  9999999        Cisauk   \n",
      "955                                                NaN  9999999        Cisauk   \n",
      "\n",
      "    name  \n",
      "0    NaN  \n",
      "1    NaN  \n",
      "2    NaN  \n",
      "3    NaN  \n",
      "4    NaN  \n",
      "..   ...  \n",
      "951  NaN  \n",
      "952  NaN  \n",
      "953  NaN  \n",
      "954  BSD  \n",
      "955  BSD  \n",
      "\n",
      "[956 rows x 4 columns]\n",
      "Data berhasil disimpan.\n"
     ]
    }
   ],
   "source": [
    "##21. Read and Write from CSV\n",
    "import pandas as pd\n",
    "\n",
    "def baca_data(file_path):\n",
    "    try:\n",
    "        df_csv = pd.read_csv(file_path)\n",
    "        return df_csv\n",
    "    except FileNotFoundError:\n",
    "        print(\"File tidak ditemukan.\")\n",
    "        return None\n",
    "\n",
    "def tampilkan_data(df_csv):\n",
    "    if df_csv is not None:\n",
    "        print(df_csv)\n",
    "\n",
    "def tambah_data(df_csv, data_baru):\n",
    "    if df_csv is not None:\n",
    "        new_row = pd.DataFrame(data_baru, index=[0])\n",
    "        return pd.concat([df_csv, new_row], ignore_index=True)\n",
    "\n",
    "def simpan_data(df_csv, file_path):\n",
    "    try:\n",
    "        df_csv.to_csv(file_path, index=False)\n",
    "        print(\"Data berhasil disimpan.\")\n",
    "    except Exception as e:\n",
    "        print(f\"Terjadi kesalahan: {e}\")\n",
    "\n",
    "# Nama file Excel\n",
    "file_path = 'C:/Users/USER/Downloads/start_station.csv'\n",
    "\n",
    "# Baca data dari file Excel\n",
    "dataframe = baca_data(file_path)\n",
    "\n",
    "# Tampilkan data\n",
    "tampilkan_data(dataframe)\n",
    "\n",
    "# Tambahkan data baru\n",
    "data_baru = {'start_station': 'Cisauk', 'name': 'BSD', 'num': '9999999'}\n",
    "dataframe = tambah_data(dataframe, data_baru)\n",
    "\n",
    "# Simpan data kembali ke file Excel\n",
    "simpan_data(dataframe, file_path)"
   ]
  }
 ],
 "metadata": {
  "kernelspec": {
   "display_name": "Python 3 (ipykernel)",
   "language": "python",
   "name": "python3"
  },
  "language_info": {
   "codemirror_mode": {
    "name": "ipython",
    "version": 3
   },
   "file_extension": ".py",
   "mimetype": "text/x-python",
   "name": "python",
   "nbconvert_exporter": "python",
   "pygments_lexer": "ipython3",
   "version": "3.11.5"
  }
 },
 "nbformat": 4,
 "nbformat_minor": 5
}
